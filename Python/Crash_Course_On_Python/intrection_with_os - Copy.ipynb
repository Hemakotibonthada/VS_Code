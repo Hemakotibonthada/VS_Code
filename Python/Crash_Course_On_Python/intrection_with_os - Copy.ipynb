{
 "cells": [
  {
   "cell_type": "code",
   "execution_count": 3,
   "metadata": {},
   "outputs": [
    {
     "name": "stdout",
     "output_type": "stream",
     "text": [
      "Requirement already satisfied: requests in c:\\users\\hmker\\appdata\\roaming\\python\\python312\\site-packages (2.32.3)\n",
      "Requirement already satisfied: charset-normalizer<4,>=2 in c:\\users\\hmker\\appdata\\roaming\\python\\python312\\site-packages (from requests) (3.3.2)\n",
      "Requirement already satisfied: idna<4,>=2.5 in c:\\users\\hmker\\appdata\\roaming\\python\\python312\\site-packages (from requests) (3.7)\n",
      "Requirement already satisfied: urllib3<3,>=1.21.1 in c:\\users\\hmker\\appdata\\roaming\\python\\python312\\site-packages (from requests) (2.2.1)\n",
      "Requirement already satisfied: certifi>=2017.4.17 in c:\\users\\hmker\\appdata\\roaming\\python\\python312\\site-packages (from requests) (2024.6.2)\n",
      "Note: you may need to restart the kernel to use updated packages.\n"
     ]
    }
   ],
   "source": [
    "%pip install requests"
   ]
  },
  {
   "cell_type": "code",
   "execution_count": 2,
   "metadata": {},
   "outputs": [],
   "source": [
    "import requests"
   ]
  },
  {
   "cell_type": "code",
   "execution_count": 5,
   "metadata": {},
   "outputs": [],
   "source": [
    "Hema=requests.get(\"https://hemakoti.blogspot.com\")\n",
    "#open(Hema.text)"
   ]
  },
  {
   "cell_type": "code",
   "execution_count": null,
   "metadata": {},
   "outputs": [],
   "source": [
    "youtube=requests.get(\"https://youtube.com\")\n",
    "open(youtube.text)"
   ]
  },
  {
   "cell_type": "code",
   "execution_count": null,
   "metadata": {},
   "outputs": [],
   "source": [
    "wiki=requests.get(\"https://wikipedia.com\")\n",
    "open(wiki.text)"
   ]
  },
  {
   "cell_type": "code",
   "execution_count": null,
   "metadata": {},
   "outputs": [],
   "source": [
    "import arrow \n",
    "date=arrow.get(\"2023-07-26\", \"YYYY-MM-DD\")\n",
    "print(date.shift(weeks=+6).format(\"MMM DD YYYY\"))"
   ]
  },
  {
   "cell_type": "code",
   "execution_count": null,
   "metadata": {},
   "outputs": [
    {
     "name": "stdout",
     "output_type": "stream",
     "text": [
      "     visitors  Errors\n",
      "mon       123      12\n",
      "tue       456      34\n",
      "wed       789      56\n",
      "thu       745      78\n",
      "fri       654      98\n",
      "sat       854      55\n",
      "sun       999      99\n"
     ]
    },
    {
     "data": {
      "text/plain": [
       "61.714285714285715"
      ]
     },
     "execution_count": 35,
     "metadata": {},
     "output_type": "execute_result"
    }
   ],
   "source": [
    "import pandas\n",
    "visitors=[123,456,789,745,654,854,999]\n",
    "errors=[12,34,56,78,98,55,99]\n",
    "df=pandas.DataFrame({\"visitors\":visitors,\"Errors\":errors},index=[\"mon\",\"tue\",\"wed\", \"thu\",\"fri\",\"sat\",\"sun\"])\n",
    "print(df)\n",
    "df[\"Errors\"].mean()"
   ]
  },
  {
   "cell_type": "code",
   "execution_count": null,
   "metadata": {},
   "outputs": [
    {
     "ename": "NameError",
     "evalue": "name 'numpy' is not defined",
     "output_type": "error",
     "traceback": [
      "\u001b[1;31m---------------------------------------------------------------------------\u001b[0m",
      "\u001b[1;31mNameError\u001b[0m                                 Traceback (most recent call last)",
      "Cell \u001b[1;32mIn[36], line 8\u001b[0m\n\u001b[0;32m      6\u001b[0m     y \u001b[39m=\u001b[39m numpy\u001b[39m.\u001b[39marray([[\u001b[39m3\u001b[39m, \u001b[39m6\u001b[39m, \u001b[39m2\u001b[39m], [\u001b[39m9\u001b[39m, \u001b[39m12\u001b[39m, \u001b[39m8\u001b[39m]], np\u001b[39m.\u001b[39mint32)\n\u001b[0;32m      7\u001b[0m     \u001b[39mreturn\u001b[39;00m x\u001b[39m*\u001b[39my\n\u001b[1;32m----> 8\u001b[0m \u001b[39mprint\u001b[39m(numpyArray())\n",
      "Cell \u001b[1;32mIn[36], line 6\u001b[0m, in \u001b[0;36mnumpyArray\u001b[1;34m()\u001b[0m\n\u001b[0;32m      4\u001b[0m \u001b[39mdef\u001b[39;00m \u001b[39mnumpyArray\u001b[39m():\n\u001b[0;32m      5\u001b[0m     x \u001b[39m=\u001b[39m np\u001b[39m.\u001b[39marray([[\u001b[39m1\u001b[39m, \u001b[39m2\u001b[39m, \u001b[39m3\u001b[39m], [\u001b[39m4\u001b[39m, \u001b[39m5\u001b[39m, \u001b[39m6\u001b[39m]], np\u001b[39m.\u001b[39mint32)\n\u001b[1;32m----> 6\u001b[0m     y \u001b[39m=\u001b[39m numpy\u001b[39m.\u001b[39marray([[\u001b[39m3\u001b[39m, \u001b[39m6\u001b[39m, \u001b[39m2\u001b[39m], [\u001b[39m9\u001b[39m, \u001b[39m12\u001b[39m, \u001b[39m8\u001b[39m]], np\u001b[39m.\u001b[39mint32)\n\u001b[0;32m      7\u001b[0m     \u001b[39mreturn\u001b[39;00m x\u001b[39m*\u001b[39my\n",
      "\u001b[1;31mNameError\u001b[0m: name 'numpy' is not defined"
     ]
    }
   ],
   "source": [
    "#!/usr/bin/env python3\n",
    "import numpy as np\n",
    "\n",
    "def numpyArray():\n",
    "    x = np.array([[1, 2, 3], [4, 5, 6]], np.int32)\n",
    "    y = numpy.array([[3, 6, 2], [9, 12, 8]], np.int32)\n",
    "    return x*y\n",
    "print(numpyArray())"
   ]
  }
 ],
 "metadata": {
  "kernelspec": {
   "display_name": "Python 3",
   "language": "python",
   "name": "python3"
  },
  "language_info": {
   "codemirror_mode": {
    "name": "ipython",
    "version": 3
   },
   "file_extension": ".py",
   "mimetype": "text/x-python",
   "name": "python",
   "nbconvert_exporter": "python",
   "pygments_lexer": "ipython3",
   "version": "3.12.3"
  },
  "orig_nbformat": 4
 },
 "nbformat": 4,
 "nbformat_minor": 2
}
