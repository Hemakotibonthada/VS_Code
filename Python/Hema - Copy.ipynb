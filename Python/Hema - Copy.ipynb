{
 "cells": [
  {
   "cell_type": "code",
   "execution_count": null,
   "metadata": {},
   "outputs": [],
   "source": [
    "seconds=int(input(\"Enter Seconds\"))\n",
    "Mm=seconds//60\n",
    "ss=seconds%60\n",
    "print(f\"Time In Minutes: {Mm}:{ss}\")"
   ]
  }
 ],
 "metadata": {
  "kernelspec": {
   "display_name": "Python 3",
   "language": "python",
   "name": "python3"
  },
  "language_info": {
   "name": "python",
   "version": "3.11.4"
  },
  "orig_nbformat": 4,
  "vscode": {
   "interpreter": {
    "hash": "de4e1a69b6b73d822c66e78e5440c86c365604ceb835f261ae20b6c872f77e2e"
   }
  }
 },
 "nbformat": 4,
 "nbformat_minor": 2
}
