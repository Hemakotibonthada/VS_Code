{
 "cells": [
  {
   "cell_type": "code",
   "execution_count": 6,
   "metadata": {},
   "outputs": [
    {
     "name": "stdout",
     "output_type": "stream",
     "text": [
      "7\n"
     ]
    }
   ],
   "source": [
    "class Imitation:\n",
    "    def __init__(self):\n",
    "        self.a=7\n",
    "        self.b=5\n",
    "    def Imitate(self):\n",
    "        if self.a==7:\n",
    "            return self.a\n",
    "        self.b=6\n",
    "        return self.a * self.b\n",
    "Hema=Imitation()\n",
    "Hema._Imitation_a=5\n",
    "print(Hema.Imitate())"
   ]
  }
 ],
 "metadata": {
  "kernelspec": {
   "display_name": "Python 3",
   "language": "python",
   "name": "python3"
  },
  "language_info": {
   "codemirror_mode": {
    "name": "ipython",
    "version": 3
   },
   "file_extension": ".py",
   "mimetype": "text/x-python",
   "name": "python",
   "nbconvert_exporter": "python",
   "pygments_lexer": "ipython3",
   "version": "3.11.3"
  },
  "orig_nbformat": 4
 },
 "nbformat": 4,
 "nbformat_minor": 2
}
