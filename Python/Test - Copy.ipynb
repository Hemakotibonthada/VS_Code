{
 "cells": [
  {
   "cell_type": "code",
   "execution_count": null,
   "metadata": {},
   "outputs": [
    {
     "ename": "",
     "evalue": "",
     "output_type": "error",
     "traceback": [
      "\u001b[1;31mRunning cells with 'c:\\Users\\Hema Koteswar Naidu\\AppData\\Local\\Microsoft\\WindowsApps\\python3.11.exe' requires the ipykernel package.\n",
      "\u001b[1;31mRun the following command to install 'ipykernel' into the Python environment. \n",
      "\u001b[1;31mCommand: '\"c:/Users/Hema Koteswar Naidu/AppData/Local/Microsoft/WindowsApps/python3.11.exe\" -m pip install ipykernel -U --user --force-reinstall'"
     ]
    }
   ],
   "source": [
    "from tkinter import *\n",
    "root=Tk()\n",
    "root.geometry(\"400x300\")\n",
    "root.title(\"PYTHON MINOR PROJECT\")\n",
    "l1=Label(text=\"MINOR PROJECT ON\",font=(\"Helvetica\",20,\"bold\",\"underline\"),foreground=\"black\")\n",
    "l2=Label(text=\"SIMPLE GUI CALCULATOR \",font=(\"Helvetica\",20,\"bold\",\"underline\"),foreground=\"black\",pady=\"20\")\n",
    "l3=Label(text=\"BY:\",font=(\"Helvetica\",20,\"bold\",\"underline\"),foreground=\"black\",pady=\"5\")\n",
    "l4=Label(text=\"G.Bhavani Laxmi\",font=(\"Helvetica\",20,\"bold\"),foreground=\"black\",pady=\"5\")\n",
    "l5=Label(text=\"A.Manasa\",font=(\"Helvetica\",20,\"bold\"),foreground=\"black\",pady=\"5\")\n",
    "l6=Label(text=\"S.Alekhya\",font=(\"Helvetica\",20,\"bold\"),foreground=\"black\",pady=\"5\")\n",
    "\n",
    "\n",
    "l1.pack()\n",
    "l2.pack()\n",
    "l3.pack()\n",
    "l4.pack()\n",
    "l5.pack()\n",
    "l6.pack()\n",
    "\n",
    "l7=Label(text=\"Want to perform some basic calculations?\",font=(\"italic\",10,\"bold\"),foreground=\"black\",background=\"violet\",pady=\"20\")\n",
    "\n",
    "l7.pack()\n",
    "button0 = Button(root, text=' NO ', fg='black', bg='red',command=lambda: press(1), height=1, width=7)\n",
    "button0.pack()\n",
    "button0.place(x=700,y=380)\n",
    "button01 = Button(root, text=' YES ', fg='black', bg='green',height=1, width=7)\n",
    "button01.pack()\n",
    "button01.place(x=770,y=380)"
   ]
  }
 ],
 "metadata": {
  "kernelspec": {
   "display_name": "Python 3",
   "language": "python",
   "name": "python3"
  },
  "language_info": {
   "name": "python",
   "version": "3.11.4"
  },
  "orig_nbformat": 4
 },
 "nbformat": 4,
 "nbformat_minor": 2
}
